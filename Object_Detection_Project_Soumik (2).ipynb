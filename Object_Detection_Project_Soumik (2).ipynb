{
 "cells": [
  {
   "cell_type": "markdown",
   "id": "70448a92",
   "metadata": {},
   "source": [
    "# Object Detection using TensorFlow\n",
    "Soumik's Internship Project"
   ]
  },
  {
   "cell_type": "code",
   "execution_count": null,
   "id": "45388f5c",
   "metadata": {},
   "outputs": [],
   "source": [
    "# STEP 1: Install Kaggle API\n",
    "!pip install -q kaggle"
   ]
  },
  {
   "cell_type": "code",
   "execution_count": null,
   "id": "c117b6a1",
   "metadata": {},
   "outputs": [],
   "source": [
    "# STEP 2: Upload kaggle.json\n",
    "from google.colab import files\n",
    "files.upload()  # Upload kaggle.json when prompted\n",
    "\n",
    "!mkdir -p ~/.kaggle\n",
    "!cp kaggle.json ~/.kaggle/\n",
    "!chmod 600 ~/.kaggle/kaggle.json"
   ]
  },
  {
   "cell_type": "code",
   "execution_count": null,
   "id": "c809a79f",
   "metadata": {},
   "outputs": [],
   "source": [
    "# STEP 3: Download dataset from Kaggle\n",
    "!kaggle datasets download -d andrewmvd/face-mask-detection\n",
    "!unzip -q face-mask-detection.zip -d dataset"
   ]
  },
  {
   "cell_type": "code",
   "execution_count": null,
   "id": "0028334c",
   "metadata": {},
   "outputs": [],
   "source": [
    "# STEP 4: Sample image visualization\n",
    "import matplotlib.pyplot as plt\n",
    "import cv2\n",
    "import os\n",
    "\n",
    "img_path = \"dataset/images/maksssksksss0.png\"\n",
    "img = cv2.imread(img_path)\n",
    "img = cv2.cvtColor(img, cv2.COLOR_BGR2RGB)\n",
    "\n",
    "plt.imshow(img)\n",
    "plt.title(\"Sample Image\")\n",
    "plt.axis('off')\n",
    "plt.show()"
   ]
  },
  {
   "cell_type": "markdown",
   "id": "3d7fcaae",
   "metadata": {},
   "source": [
    "⚠️ Further steps like model building, annotation parsing, training, and result visualization will be added as needed."
   ]
  }
 ],
 "metadata": {},
 "nbformat": 4,
 "nbformat_minor": 5
}
